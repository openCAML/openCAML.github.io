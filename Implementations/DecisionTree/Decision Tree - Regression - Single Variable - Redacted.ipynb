{
 "cells": [
  {
   "cell_type": "markdown",
   "metadata": {},
   "source": [
    "# Import Python modules"
   ]
  },
  {
   "cell_type": "code",
   "execution_count": 1,
   "metadata": {},
   "outputs": [],
   "source": [
    "import numpy as np\n",
    "import pandas as pd\n",
    "import matplotlib.pyplot as plt\n",
    "from sklearn.model_selection import train_test_split"
   ]
  },
  {
   "cell_type": "markdown",
   "metadata": {},
   "source": [
    "# Generate data for Univariate Decision Tree Regression"
   ]
  },
  {
   "cell_type": "code",
   "execution_count": 2,
   "metadata": {},
   "outputs": [],
   "source": [
    "n = 100 #Number of observations in the training set\n",
    "\n",
    "trueSplitPoint = 5 \n",
    "\n",
    "trueLowerLevel = 15\n",
    "trueUpperLevel = 30\n",
    "\n"
   ]
  },
  {
   "cell_type": "code",
   "execution_count": 3,
   "metadata": {},
   "outputs": [],
   "source": [
    "x = np.random.uniform(0, 10, n)\n",
    "\n",
    "def generateY(x, trueLowerLevel, trueUpperLevel, trueSplitPoint, sd):\n",
    "    \n",
    "    if x < trueSplitPoint:\n",
    "        y = np.random.normal(trueLowerLevel, sd, 1)\n",
    "    else:\n",
    "        y = np.random.normal(trueUpperLevel, sd, 1)\n",
    "        \n",
    "    return y[0]\n",
    "\n",
    "y = [generateY(i, trueLowerLevel, trueUpperLevel, trueSplitPoint, 3) for i in x]"
   ]
  },
  {
   "cell_type": "code",
   "execution_count": 4,
   "metadata": {},
   "outputs": [
    {
     "data": {
      "text/html": [
       "<div>\n",
       "<style scoped>\n",
       "    .dataframe tbody tr th:only-of-type {\n",
       "        vertical-align: middle;\n",
       "    }\n",
       "\n",
       "    .dataframe tbody tr th {\n",
       "        vertical-align: top;\n",
       "    }\n",
       "\n",
       "    .dataframe thead th {\n",
       "        text-align: right;\n",
       "    }\n",
       "</style>\n",
       "<table border=\"1\" class=\"dataframe\">\n",
       "  <thead>\n",
       "    <tr style=\"text-align: right;\">\n",
       "      <th></th>\n",
       "      <th>X</th>\n",
       "      <th>Y</th>\n",
       "    </tr>\n",
       "  </thead>\n",
       "  <tbody>\n",
       "    <tr>\n",
       "      <th>0</th>\n",
       "      <td>9.701683</td>\n",
       "      <td>30.927819</td>\n",
       "    </tr>\n",
       "    <tr>\n",
       "      <th>1</th>\n",
       "      <td>7.618556</td>\n",
       "      <td>30.736159</td>\n",
       "    </tr>\n",
       "    <tr>\n",
       "      <th>2</th>\n",
       "      <td>4.572114</td>\n",
       "      <td>12.845369</td>\n",
       "    </tr>\n",
       "    <tr>\n",
       "      <th>3</th>\n",
       "      <td>5.142518</td>\n",
       "      <td>32.198665</td>\n",
       "    </tr>\n",
       "    <tr>\n",
       "      <th>4</th>\n",
       "      <td>4.966570</td>\n",
       "      <td>18.501048</td>\n",
       "    </tr>\n",
       "    <tr>\n",
       "      <th>5</th>\n",
       "      <td>8.102828</td>\n",
       "      <td>27.678129</td>\n",
       "    </tr>\n",
       "    <tr>\n",
       "      <th>6</th>\n",
       "      <td>0.371426</td>\n",
       "      <td>12.520482</td>\n",
       "    </tr>\n",
       "    <tr>\n",
       "      <th>7</th>\n",
       "      <td>8.664975</td>\n",
       "      <td>33.794388</td>\n",
       "    </tr>\n",
       "    <tr>\n",
       "      <th>8</th>\n",
       "      <td>9.785477</td>\n",
       "      <td>29.627837</td>\n",
       "    </tr>\n",
       "    <tr>\n",
       "      <th>9</th>\n",
       "      <td>2.432104</td>\n",
       "      <td>19.029805</td>\n",
       "    </tr>\n",
       "  </tbody>\n",
       "</table>\n",
       "</div>"
      ],
      "text/plain": [
       "          X          Y\n",
       "0  9.701683  30.927819\n",
       "1  7.618556  30.736159\n",
       "2  4.572114  12.845369\n",
       "3  5.142518  32.198665\n",
       "4  4.966570  18.501048\n",
       "5  8.102828  27.678129\n",
       "6  0.371426  12.520482\n",
       "7  8.664975  33.794388\n",
       "8  9.785477  29.627837\n",
       "9  2.432104  19.029805"
      ]
     },
     "execution_count": 4,
     "metadata": {},
     "output_type": "execute_result"
    }
   ],
   "source": [
    "data = pd.DataFrame({'X':x, 'Y':y}) #Put the two arrays into a dataframe to make it easy to work with\n",
    "data.head(10) #Inspect the first ten rows of our dataset "
   ]
  },
  {
   "cell_type": "markdown",
   "metadata": {},
   "source": [
    "# Quickly plot the data so we know what it looks like"
   ]
  },
  {
   "cell_type": "code",
   "execution_count": 5,
   "metadata": {},
   "outputs": [
    {
     "data": {
      "image/png": "[encoded data removed]",
      "text/plain": [
       "<Figure size 432x288 with 1 Axes>"
      ]
     },
     "metadata": {
      "needs_background": "light"
     },
     "output_type": "display_data"
    }
   ],
   "source": [
    "plt.scatter(data['X'], data['Y'])\n",
    "plt.show()"
   ]
  },
  {
   "cell_type": "markdown",
   "metadata": {},
   "source": [
    "Data appears to be generated by two distinct processes (as indeed it is). \n",
    "\n",
    "For the simplest version of decision tree we want to identify the split point. When predicting the (continuous) label for a new observation, if the feature is less than the split point we assign one value and if it's greater than the split point we assign another value. Thus the set of possible values we can assign has size two. Clearly this is a very simple regression technique and it's unlikely we'd use this in a real scenario, but we've generated the data in a very contrived way so that it should perform reasonably here and we'll see that the decision tree can approximate non-linear functions by using techniques such as Bagging.\n",
    "\n",
    "Mathematically, we want to learn a function $f: \\mathbb{R} \\rightarrow \\mathbb{R}$, such that:\n",
    "\n",
    "\\begin{equation}\n",
    "  f(x)=\\begin{cases}\n",
    "    c_0, & \\text{if $x<c_{split}$}.\\\\\n",
    "    c_1, & \\text{otherwise}.\n",
    "  \\end{cases}\n",
    "\\end{equation}\n",
    "\n",
    "Our aim is to find the best combination of values for $c_0, c_1 \\& c_{split}$"
   ]
  },
  {
   "cell_type": "markdown",
   "metadata": {},
   "source": [
    "# How we're going to fit the model\n",
    "\n",
    "We can't use a Maximum-Likelihood style approach because we don't make any probabilistic assumptions. We're going to test lots of split points, then for each split point we're calculate $c_0$ and $c_1$ by taking all of the points on the relevant side of the split point and calculating the mean of those points.\n",
    "\n",
    "That is \n",
    "\n",
    "$$c_0|c_{split} = \\frac{\\sum_{x_i < c_{split}} x_i}{\\sum_{x_i < c_{split}} 1}$$\n",
    "\n",
    "$$c_1|c_{split} = \\frac{\\sum_{x_i > c_{split}} x_i}{\\sum_{x_i > c_{split}} 1}$$\n",
    "\n",
    "\n",
    "And then we'll choose the values of $c_0, c_1 \\text{and} c_{split}$ which minimise the squared error on the training set"
   ]
  },
  {
   "cell_type": "code",
   "execution_count": 6,
   "metadata": {},
   "outputs": [],
   "source": [
    "class univariateDecisionTree:\n",
    "    \n",
    "    def __init__(self, data, target, feature, trainTestRatio = 0.9):\n",
    "        #data - a pandas dataset \n",
    "        #target - the name of the pandas column which contains the true labels\n",
    "        #feature - the name of the pandas column which we will use to do the regression\n",
    "        #trainTestRatio - the proportion of the entire dataset which we'll use for training\n",
    "                    #   - the rest will be used for testing\n",
    "        \n",
    "        self.target = target\n",
    "        self.feature = feature\n",
    "        \n",
    "        #Split up data into a training and testing set\n",
    "        self.train, self.test = train_test_split(data, test_size=1-trainTestRatio)\n",
    "        \n",
    "        \n",
    "        #Generate mesh of split points to try. We want the mesh to be of a decent size (say 1000 points)\n",
    "        #Think about what reasonable end points of the mesh would be - what would happen if we considered\n",
    "        #a point that was smaller than the smallest point in the training set as a split point?\n",
    "        \n",
    "        #np.linspace() is a good function for constructing this 1-d mesh\n",
    "        meshMin = np.min(self.train[self.feature])\n",
    "        meshMax = np.max(self.train[self.feature])\n",
    "        self.splitPointMesh = np.linspace(meshMin, meshMax, 1000)\n",
    "        \n",
    "    \n",
    "    def computeMeansGivenSplitPoint(self, splitPoint):\n",
    "        #Given a split point, we want to split the training set in two\n",
    "        #One containing all the points below the split point and one containing all the points above the split point\n",
    "        #The means are then the means of the targets in those datasets and they are the values we want to return\n",
    "        \n",
    "        #Hint: When using pandas datasets, you can use the .loc command to easily extract a subset of the dataframe\n",
    "        \n",
    "        #Remember we want to return two values\n",
    "    \n",
    "    def computeSquaredError(self, splitPoint):\n",
    "        #Once we have a split point and a set of means, we need to have some way of identifying whether it's \n",
    "        #a good split point or not\n",
    "        \n",
    "        #First apply compuuteMeansGivenSplitPoint to get the values for above and below the dataset\n",
    "        #Then compute the sum of squared errors yielded by assigning the corresponding mean to each point in the training set\n",
    "        #If we add these two sums of squares together then we have a single error number which indicates how good our split point is\n",
    "        \n",
    "        \n",
    "        #Code goes here...\n",
    "        \n",
    "        \n",
    "        #To get the value of errorBelow, subset the training set to the points below the split points\n",
    "        #Then calculate the squared difference between target and c0 for each observation in the subset\n",
    "        #Then sum them up (This can all be done in one line)\n",
    "        \n",
    "        \n",
    "        #Code goes here...\n",
    "        \n",
    "        \n",
    "        totalError = errorBelow + errorAbove\n",
    "\n",
    "        return totalError\n",
    "    \n",
    "    \n",
    "    def fitDT(self):\n",
    "        #Calculate the squared error for each split point in the mesh, \n",
    "        #and save the values (splitPoint and two means) obtained by the best one\n",
    "            \n",
    "        #Errors for each member of the mesh\n",
    "        \n",
    "        \n",
    "        #Find the member of the mesh which gives the smallest error\n",
    "        \n",
    "        \n",
    "        #Save as attributes of the class the split point and two means which give the smallest error\n",
    "        \n",
    "        \n",
    "        \n",
    "        return 0\n",
    "    \n",
    "    def predict(self, X):\n",
    "        #If below the split point, predict one value. If above the split point, predict the other\n",
    "            \n",
    "        pass\n",
    "        \n",
    "            "
   ]
  },
  {
   "cell_type": "code",
   "execution_count": 7,
   "metadata": {},
   "outputs": [],
   "source": [
    "myModel = univariateDecisionTree(data, 'Y', 'X')"
   ]
  },
  {
   "cell_type": "code",
   "execution_count": 8,
   "metadata": {},
   "outputs": [
    {
     "data": {
      "text/plain": [
       "0"
      ]
     },
     "execution_count": 8,
     "metadata": {},
     "output_type": "execute_result"
    }
   ],
   "source": [
    "myModel.fitDT()"
   ]
  },
  {
   "cell_type": "markdown",
   "metadata": {},
   "source": [
    "# Now lets see what the results look like\n",
    "\n",
    "We'll plot the regression line we obtained against the values we observed in the training set"
   ]
  },
  {
   "cell_type": "code",
   "execution_count": 9,
   "metadata": {},
   "outputs": [],
   "source": [
    "regLine = myModel.predict(myModel.splitPointMesh)"
   ]
  },
  {
   "cell_type": "code",
   "execution_count": 10,
   "metadata": {},
   "outputs": [
    {
     "data": {
      "image/png": "[encoded data removed]",
      "text/plain": [
       "<Figure size 432x288 with 1 Axes>"
      ]
     },
     "metadata": {
      "needs_background": "light"
     },
     "output_type": "display_data"
    }
   ],
   "source": [
    "plt.scatter(myModel.train[myModel.feature], myModel.train[myModel.target], label = 'Training set')\n",
    "plt.scatter(myModel.splitPointMesh, regLine, label = 'Regression Line')\n",
    "plt.legend()\n",
    "plt.show()\n"
   ]
  },
  {
   "cell_type": "code",
   "execution_count": null,
   "metadata": {},
   "outputs": [],
   "source": []
  }
 ],
 "metadata": {
  "kernelspec": {
   "display_name": "Python (cgvae)",
   "language": "python",
   "name": "cgvae"
  },
  "language_info": {
   "codemirror_mode": {
    "name": "ipython",
    "version": 3
   },
   "file_extension": ".py",
   "mimetype": "text/x-python",
   "name": "python",
   "nbconvert_exporter": "python",
   "pygments_lexer": "ipython3",
   "version": "3.7.5"
  }
 },
 "nbformat": 4,
 "nbformat_minor": 2
}
